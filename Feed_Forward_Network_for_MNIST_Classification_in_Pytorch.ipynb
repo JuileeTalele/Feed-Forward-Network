{
  "nbformat": 4,
  "nbformat_minor": 0,
  "metadata": {
    "colab": {
      "name": "Feed Forward Network for MNIST Classification in Pytorch.ipynb",
      "provenance": []
    },
    "kernelspec": {
      "name": "python3",
      "display_name": "Python 3"
    }
  },
  "cells": [
    {
      "cell_type": "code",
      "metadata": {
        "id": "q8q669YMR866",
        "colab_type": "code",
        "colab": {}
      },
      "source": [
        ""
      ],
      "execution_count": 0,
      "outputs": []
    },
    {
      "cell_type": "code",
      "metadata": {
        "id": "jWz9pzj8ULpJ",
        "colab_type": "code",
        "colab": {}
      },
      "source": [
        "# Import necessary packages\n",
        "%matplotlib inline\n",
        "%config InlineBackend.figure_format = 'retina'\n",
        "\n",
        "import numpy as np\n",
        "import torch\n",
        "import torchvision\n",
        "import matplotlib.pyplot as plt\n",
        "from time import time"
      ],
      "execution_count": 0,
      "outputs": []
    },
    {
      "cell_type": "code",
      "metadata": {
        "id": "BcpXDYXxULsS",
        "colab_type": "code",
        "colab": {}
      },
      "source": [
        "import os\n",
        "from google.colab import drive"
      ],
      "execution_count": 0,
      "outputs": []
    },
    {
      "cell_type": "markdown",
      "metadata": {
        "id": "Q21fQnYGUZlP",
        "colab_type": "text"
      },
      "source": [
        "Download The Dataset & Define The Transforms"
      ]
    },
    {
      "cell_type": "code",
      "metadata": {
        "id": "qIwZioOKULxT",
        "colab_type": "code",
        "colab": {}
      },
      "source": [
        "from torchvision import datasets, transforms\n",
        "\n",
        "# Define a transform to normalize the data\n",
        "transform = transforms.Compose([transforms.ToTensor(),\n",
        "                              transforms.Normalize((0.5,), (0.5,)),\n",
        "                              ])\n",
        "\n",
        "# Download and load the training data\n",
        "trainset = datasets.MNIST('drive/My Drive/mnist/MNIST_data/', download=True, train=True, transform=transform)\n",
        "valset = datasets.MNIST('drive/My Drive/mnist/MNIST_data/', download=True, train=False, transform=transform)\n",
        "trainloader = torch.utils.data.DataLoader(trainset, batch_size=64, shuffle=True)\n",
        "valloader = torch.utils.data.DataLoader(valset, batch_size=64, shuffle=True)"
      ],
      "execution_count": 0,
      "outputs": []
    },
    {
      "cell_type": "code",
      "metadata": {
        "id": "ngq17JozULz_",
        "colab_type": "code",
        "colab": {
          "base_uri": "https://localhost:8080/",
          "height": 69
        },
        "outputId": "f470217e-47cd-4744-ed36-84c076c1e3cb"
      },
      "source": [
        "dataiter = iter(trainloader)\n",
        "images, labels = dataiter.next()\n",
        "print(type(images))\n",
        "print(images.shape)\n",
        "print(labels.shape)"
      ],
      "execution_count": 4,
      "outputs": [
        {
          "output_type": "stream",
          "text": [
            "<class 'torch.Tensor'>\n",
            "torch.Size([64, 1, 28, 28])\n",
            "torch.Size([64])\n"
          ],
          "name": "stdout"
        }
      ]
    },
    {
      "cell_type": "code",
      "metadata": {
        "id": "ba4vgvyiUL4t",
        "colab_type": "code",
        "colab": {
          "base_uri": "https://localhost:8080/",
          "height": 265
        },
        "outputId": "bc8cedf2-5708-43d7-f4f7-c7ba0bf2b0b0"
      },
      "source": [
        "plt.imshow(images[0].numpy().squeeze(), cmap='gray_r');"
      ],
      "execution_count": 5,
      "outputs": [
        {
          "output_type": "display_data",
          "data": {
            "image/png": "[encoded data removed]",
            "text/plain": [
              "<Figure size 432x288 with 1 Axes>"
            ]
          },
          "metadata": {
            "tags": [],
            "image/png": {
              "width": 251,
              "height": 248
            }
          }
        }
      ]
    },
    {
      "cell_type": "code",
      "metadata": {
        "id": "bJ2aE3J0UL7u",
        "colab_type": "code",
        "colab": {
          "base_uri": "https://localhost:8080/",
          "height": 246
        },
        "outputId": "c37f3f19-9285-447f-bdb0-84ee9616c2dc"
      },
      "source": [
        "figure = plt.figure()\n",
        "num_of_images = 60\n",
        "for index in range(1, num_of_images + 1):\n",
        "    plt.subplot(6, 10, index)\n",
        "    plt.axis('off')\n",
        "    plt.imshow(images[index].numpy().squeeze(), cmap='gray_r')"
      ],
      "execution_count": 6,
      "outputs": [
        {
          "output_type": "display_data",
          "data": {
            "image/png": "[encoded data removed]",
            "text/plain": [
              "<Figure size 432x288 with 60 Axes>"
            ]
          },
          "metadata": {
            "tags": [],
            "image/png": {
              "width": 349,
              "height": 229
            }
          }
        }
      ]
    },
    {
      "cell_type": "code",
      "metadata": {
        "id": "75DBrkq9UL-y",
        "colab_type": "code",
        "colab": {
          "base_uri": "https://localhost:8080/",
          "height": 156
        },
        "outputId": "e10a8e86-8157-48fa-f12a-dbeecd4316bd"
      },
      "source": [
        "from torch import nn\n",
        "\n",
        "# Layer details for the neural network\n",
        "input_size = 784\n",
        "hidden_sizes = [128, 64]\n",
        "output_size = 10\n",
        "\n",
        "# Build a feed-forward network\n",
        "model = nn.Sequential(nn.Linear(input_size, hidden_sizes[0]),\n",
        "                      nn.ReLU(),\n",
        "                      nn.Linear(hidden_sizes[0], hidden_sizes[1]),\n",
        "                      nn.ReLU(),\n",
        "                      nn.Linear(hidden_sizes[1], output_size),\n",
        "                      nn.LogSoftmax(dim=1))\n",
        "print(model)"
      ],
      "execution_count": 7,
      "outputs": [
        {
          "output_type": "stream",
          "text": [
            "Sequential(\n",
            "  (0): Linear(in_features=784, out_features=128, bias=True)\n",
            "  (1): ReLU()\n",
            "  (2): Linear(in_features=128, out_features=64, bias=True)\n",
            "  (3): ReLU()\n",
            "  (4): Linear(in_features=64, out_features=10, bias=True)\n",
            "  (5): LogSoftmax()\n",
            ")\n"
          ],
          "name": "stdout"
        }
      ]
    },
    {
      "cell_type": "code",
      "metadata": {
        "id": "vmkxxtSxUMB9",
        "colab_type": "code",
        "colab": {
          "base_uri": "https://localhost:8080/",
          "height": 173
        },
        "outputId": "f3076c5d-d906-4f6b-dc10-65f33b8d3301"
      },
      "source": [
        "device = torch.device(\"cuda\" if torch.cuda.is_available() else \"cpu\")\n",
        "print(device)\n",
        "model.to(device)"
      ],
      "execution_count": 8,
      "outputs": [
        {
          "output_type": "stream",
          "text": [
            "cpu\n"
          ],
          "name": "stdout"
        },
        {
          "output_type": "execute_result",
          "data": {
            "text/plain": [
              "Sequential(\n",
              "  (0): Linear(in_features=784, out_features=128, bias=True)\n",
              "  (1): ReLU()\n",
              "  (2): Linear(in_features=128, out_features=64, bias=True)\n",
              "  (3): ReLU()\n",
              "  (4): Linear(in_features=64, out_features=10, bias=True)\n",
              "  (5): LogSoftmax()\n",
              ")"
            ]
          },
          "metadata": {
            "tags": []
          },
          "execution_count": 8
        }
      ]
    },
    {
      "cell_type": "code",
      "metadata": {
        "id": "1_mCGr0bUME1",
        "colab_type": "code",
        "colab": {}
      },
      "source": [
        "criterion = nn.NLLLoss()\n",
        "images, labels = next(iter(trainloader))\n",
        "images = images.view(images.shape[0], -1)\n",
        "\n",
        "logps = model(images)\n",
        "loss = criterion(logps, labels)"
      ],
      "execution_count": 0,
      "outputs": []
    },
    {
      "cell_type": "code",
      "metadata": {
        "id": "gfZ-I6O4UMH0",
        "colab_type": "code",
        "colab": {
          "base_uri": "https://localhost:8080/",
          "height": 191
        },
        "outputId": "9bc70173-5d8e-4a2c-b477-a677d12d026c"
      },
      "source": [
        "print('Before backward pass: \\n', model[0].weight.grad)\n",
        "\n",
        "loss.backward()\n",
        "\n",
        "print('After backward pass: \\n', model[0].weight.grad)"
      ],
      "execution_count": 10,
      "outputs": [
        {
          "output_type": "stream",
          "text": [
            "Before backward pass: \n",
            " None\n",
            "After backward pass: \n",
            " tensor([[ 0.0052,  0.0052,  0.0052,  ...,  0.0052,  0.0052,  0.0052],\n",
            "        [ 0.0016,  0.0016,  0.0016,  ...,  0.0016,  0.0016,  0.0016],\n",
            "        [-0.0009, -0.0009, -0.0009,  ..., -0.0009, -0.0009, -0.0009],\n",
            "        ...,\n",
            "        [-0.0003, -0.0003, -0.0003,  ..., -0.0003, -0.0003, -0.0003],\n",
            "        [-0.0002, -0.0002, -0.0002,  ..., -0.0002, -0.0002, -0.0002],\n",
            "        [ 0.0000,  0.0000,  0.0000,  ...,  0.0000,  0.0000,  0.0000]])\n"
          ],
          "name": "stdout"
        }
      ]
    },
    {
      "cell_type": "code",
      "metadata": {
        "id": "2kmRy0xeUL2n",
        "colab_type": "code",
        "colab": {}
      },
      "source": [
        "from torch import optim\n",
        "\n",
        "# Optimizers require the parameters to optimize and a learning rate\n",
        "optimizer = optim.SGD(model.parameters(), lr=0.01, momentum=0.5)"
      ],
      "execution_count": 0,
      "outputs": []
    },
    {
      "cell_type": "code",
      "metadata": {
        "id": "kYoLa9QsWPKw",
        "colab_type": "code",
        "colab": {
          "base_uri": "https://localhost:8080/",
          "height": 295
        },
        "outputId": "5a899a18-c875-4b10-e0c1-6b73279804ad"
      },
      "source": [
        "print('Initial weights - ', model[0].weight)\n",
        "\n",
        "images, labels = next(iter(trainloader))\n",
        "images.resize_(64, 784)\n",
        "\n",
        "# Clear the gradients, do this because gradients are accumulated\n",
        "optimizer.zero_grad()\n",
        "\n",
        "# Forward pass, then backward pass, then update weights\n",
        "output = model(images)\n",
        "loss = criterion(output, labels)\n",
        "loss.backward()\n",
        "print('Gradient -', model[0].weight.grad)"
      ],
      "execution_count": 12,
      "outputs": [
        {
          "output_type": "stream",
          "text": [
            "Initial weights -  Parameter containing:\n",
            "tensor([[ 0.0306, -0.0192, -0.0059,  ...,  0.0328,  0.0144,  0.0089],\n",
            "        [ 0.0140, -0.0003, -0.0033,  ...,  0.0095, -0.0215, -0.0001],\n",
            "        [ 0.0068,  0.0284, -0.0098,  ..., -0.0227,  0.0249, -0.0329],\n",
            "        ...,\n",
            "        [ 0.0077, -0.0273,  0.0053,  ..., -0.0007, -0.0215, -0.0357],\n",
            "        [-0.0032,  0.0236, -0.0254,  ..., -0.0134, -0.0098,  0.0093],\n",
            "        [-0.0118,  0.0046,  0.0244,  ..., -0.0042,  0.0184, -0.0326]],\n",
            "       requires_grad=True)\n",
            "Gradient - tensor([[ 0.0016,  0.0016,  0.0016,  ...,  0.0016,  0.0016,  0.0016],\n",
            "        [-0.0047, -0.0047, -0.0047,  ..., -0.0047, -0.0047, -0.0047],\n",
            "        [-0.0041, -0.0041, -0.0041,  ..., -0.0041, -0.0041, -0.0041],\n",
            "        ...,\n",
            "        [ 0.0069,  0.0069,  0.0069,  ...,  0.0069,  0.0069,  0.0069],\n",
            "        [-0.0006, -0.0006, -0.0006,  ..., -0.0006, -0.0006, -0.0006],\n",
            "        [ 0.0000,  0.0000,  0.0000,  ...,  0.0000,  0.0000,  0.0000]])\n"
          ],
          "name": "stdout"
        }
      ]
    },
    {
      "cell_type": "code",
      "metadata": {
        "id": "Oh93du6bWPQT",
        "colab_type": "code",
        "colab": {
          "base_uri": "https://localhost:8080/",
          "height": 260
        },
        "outputId": "d9517b3b-3a24-40dc-b062-3dff8c2cc99e"
      },
      "source": [
        "# Take an update step and few the new weights\n",
        "optimizer.step()\n",
        "print('Updated weights - ', model[0].weight)"
      ],
      "execution_count": 13,
      "outputs": [
        {
          "output_type": "stream",
          "text": [
            "Updated weights -  Parameter containing:\n",
            "tensor([[ 3.0551e-02, -1.9228e-02, -5.9069e-03,  ...,  3.2758e-02,\n",
            "          1.4394e-02,  8.8825e-03],\n",
            "        [ 1.4029e-02, -2.8532e-04, -3.2251e-03,  ...,  9.5651e-03,\n",
            "         -2.1452e-02, -5.4758e-05],\n",
            "        [ 6.8840e-03,  2.8484e-02, -9.7351e-03,  ..., -2.2632e-02,\n",
            "          2.4918e-02, -3.2904e-02],\n",
            "        ...,\n",
            "        [ 7.6156e-03, -2.7384e-02,  5.2346e-03,  ..., -8.1720e-04,\n",
            "         -2.1577e-02, -3.5752e-02],\n",
            "        [-3.2241e-03,  2.3557e-02, -2.5402e-02,  ..., -1.3366e-02,\n",
            "         -9.7886e-03,  9.3000e-03],\n",
            "        [-1.1755e-02,  4.6481e-03,  2.4371e-02,  ..., -4.1856e-03,\n",
            "          1.8435e-02, -3.2611e-02]], requires_grad=True)\n"
          ],
          "name": "stdout"
        }
      ]
    },
    {
      "cell_type": "code",
      "metadata": {
        "id": "JSTe3EFZWPTV",
        "colab_type": "code",
        "colab": {}
      },
      "source": [
        "### Core Training Of Neural Network"
      ],
      "execution_count": 0,
      "outputs": []
    },
    {
      "cell_type": "code",
      "metadata": {
        "id": "Ip1csa6KWPWg",
        "colab_type": "code",
        "colab": {
          "base_uri": "https://localhost:8080/",
          "height": 225
        },
        "outputId": "ea9dc29e-bd6e-4413-ea28-9d5efa180ebb"
      },
      "source": [
        "optimizer = optim.SGD(model.parameters(), lr=0.003, momentum=0.9)\n",
        "time0 = time()\n",
        "epochs = 10\n",
        "for e in range(epochs):\n",
        "    running_loss = 0\n",
        "    for images, labels in trainloader:\n",
        "        # Flatten MNIST images into a 784 long vector\n",
        "        images = images.view(images.shape[0], -1)\n",
        "    \n",
        "        # Training pass\n",
        "        optimizer.zero_grad()\n",
        "        \n",
        "        output = model(images)\n",
        "        loss = criterion(output, labels)\n",
        "        \n",
        "        #This is where the model learns by backpropagating\n",
        "        loss.backward()\n",
        "        \n",
        "        #And optimizes its weights here\n",
        "        optimizer.step()\n",
        "        \n",
        "        running_loss += loss.item()\n",
        "    else:\n",
        "        print(\"Epoch {} - Training loss: {}\".format(e, running_loss/len(trainloader)))\n",
        "print(\"\\nTraining Time (in minutes) =\",(time()-time0)/60)\n"
      ],
      "execution_count": 15,
      "outputs": [
        {
          "output_type": "stream",
          "text": [
            "Epoch 0 - Training loss: 0.6264141599443167\n",
            "Epoch 1 - Training loss: 0.2769639351840085\n",
            "Epoch 2 - Training loss: 0.2158104148206871\n",
            "Epoch 3 - Training loss: 0.17535459150526442\n",
            "Epoch 4 - Training loss: 0.14562738200089634\n",
            "Epoch 5 - Training loss: 0.1262053730967107\n",
            "Epoch 6 - Training loss: 0.10972876389667804\n",
            "Epoch 7 - Training loss: 0.09761533301982925\n",
            "Epoch 8 - Training loss: 0.08758655313386528\n",
            "Epoch 9 - Training loss: 0.07989947622699509\n",
            "\n",
            "Training Time (in minutes) = 2.168346854050954\n"
          ],
          "name": "stdout"
        }
      ]
    },
    {
      "cell_type": "code",
      "metadata": {
        "id": "Jyc8ULSSWPN3",
        "colab_type": "code",
        "colab": {}
      },
      "source": [
        "def view_classify(img, ps):\n",
        "    ''' Function for viewing an image and it's predicted classes.\n",
        "    '''\n",
        "    ps = ps.data.numpy().squeeze()\n",
        "\n",
        "    fig, (ax1, ax2) = plt.subplots(figsize=(6,9), ncols=2)\n",
        "    ax1.imshow(img.resize_(1, 28, 28).numpy().squeeze())\n",
        "    ax1.axis('off')\n",
        "    ax2.barh(np.arange(10), ps)\n",
        "    ax2.set_aspect(0.1)\n",
        "    ax2.set_yticks(np.arange(10))\n",
        "    ax2.set_yticklabels(np.arange(10))\n",
        "    ax2.set_title('Class Probability')\n",
        "    ax2.set_xlim(0, 1.1)\n",
        "    plt.tight_layout()"
      ],
      "execution_count": 0,
      "outputs": []
    },
    {
      "cell_type": "code",
      "metadata": {
        "id": "JOFHFSRPWPH9",
        "colab_type": "code",
        "colab": {
          "base_uri": "https://localhost:8080/",
          "height": 269
        },
        "outputId": "8aee78ff-7e54-455e-bb63-c8058f87ae1d"
      },
      "source": [
        "\n",
        "img = images[0].view(1, 784)\n",
        "# Turn off gradients to speed up this part\n",
        "with torch.no_grad():\n",
        "    logps = model(img)\n",
        "\n",
        "# Output of the network are log-probabilities, need to take exponential for probabilities\n",
        "ps = torch.exp(logps)\n",
        "probab = list(ps.numpy()[0])\n",
        "print(\"Predicted Digit =\", probab.index(max(probab)))\n",
        "view_classify(img.view(1, 28, 28), ps)"
      ],
      "execution_count": 17,
      "outputs": [
        {
          "output_type": "stream",
          "text": [
            "Predicted Digit = 7\n"
          ],
          "name": "stdout"
        },
        {
          "output_type": "display_data",
          "data": {
            "image/png": "[encoded data removed]",
            "text/plain": [
              "<Figure size 432x648 with 2 Axes>"
            ]
          },
          "metadata": {
            "tags": [],
            "image/png": {
              "width": 424,
              "height": 235
            }
          }
        }
      ]
    },
    {
      "cell_type": "code",
      "metadata": {
        "id": "RR2J0CTjULu7",
        "colab_type": "code",
        "colab": {
          "base_uri": "https://localhost:8080/",
          "height": 69
        },
        "outputId": "0ec0cf23-258a-4267-a3c5-1d357b9daa50"
      },
      "source": [
        "correct_count, all_count = 0, 0\n",
        "for images,labels in valloader:\n",
        "  for i in range(len(labels)):\n",
        "    img = images[i].view(1, 784)\n",
        "    # Turn off gradients to speed up this part\n",
        "    with torch.no_grad():\n",
        "        logps = model(img)\n",
        "\n",
        "    # Output of the network are log-probabilities, need to take exponential for probabilities\n",
        "    ps = torch.exp(logps)\n",
        "    probab = list(ps.numpy()[0])\n",
        "    pred_label = probab.index(max(probab))\n",
        "    true_label = labels.numpy()[i]\n",
        "    if(true_label == pred_label):\n",
        "      correct_count += 1\n",
        "    all_count += 1\n",
        "\n",
        "print(\"Number Of Images Tested =\", all_count)\n",
        "print(\"\\nModel Accuracy =\", (correct_count/all_count))"
      ],
      "execution_count": 18,
      "outputs": [
        {
          "output_type": "stream",
          "text": [
            "Number Of Images Tested = 10000\n",
            "\n",
            "Model Accuracy = 0.9695\n"
          ],
          "name": "stdout"
        }
      ]
    },
    {
      "cell_type": "markdown",
      "metadata": {
        "id": "34HHN7OtNGR3",
        "colab_type": "text"
      },
      "source": [
        "***Let's try for different learning rate and epoch:  (One Layer)***\n"
      ]
    },
    {
      "cell_type": "code",
      "metadata": {
        "id": "hwZn11IcXm0J",
        "colab_type": "code",
        "colab": {
          "base_uri": "https://localhost:8080/",
          "height": 1000
        },
        "outputId": "8890b4cc-81cc-4521-9d64-433964f88c9f"
      },
      "source": [
        "learning_rt = [0.01,0.05,0.005,0.003,0.001]\n",
        "\n",
        "for i in learning_rt:\n",
        "  print(\"Learning rate :\",i)\n",
        "  optimizer = optim.SGD(model.parameters(), lr=i, momentum=0.9)\n",
        "  time0 = time()\n",
        "  epochs = 10\n",
        "  accuracy = []\n",
        "  for e in range(epochs):\n",
        "      running_loss = 0\n",
        "      for images, labels in trainloader:\n",
        "          # Flatten MNIST images into a 784 long vector\n",
        "          images = images.view(images.shape[0], -1)\n",
        "      \n",
        "          # Training pass\n",
        "          optimizer.zero_grad()\n",
        "          \n",
        "          output = model(images)\n",
        "          loss = criterion(output, labels)\n",
        "          \n",
        "          #This is where the model learns by backpropagating\n",
        "          loss.backward()\n",
        "          \n",
        "          #And optimizes its weights here\n",
        "          optimizer.step()\n",
        "          \n",
        "          running_loss += loss.item()\n",
        "\n",
        "      else:\n",
        "          print(\"Epoch {} - Training loss: {}\".format(e, running_loss/len(trainloader)))\n",
        "          correct_count, all_count = 0, 0\n",
        "          for images,labels in valloader:\n",
        "            for i in range(len(labels)):\n",
        "              img = images[i].view(1, 784)\n",
        "              # Turn off gradients to speed up this part\n",
        "              with torch.no_grad():\n",
        "                  logps = model(img)\n",
        "\n",
        "              # Output of the network are log-probabilities, need to take exponential for probabilities\n",
        "              ps = torch.exp(logps)\n",
        "              probab = list(ps.numpy()[0])\n",
        "              pred_label = probab.index(max(probab))\n",
        "              true_label = labels.numpy()[i]\n",
        "              if(true_label == pred_label):\n",
        "                correct_count += 1\n",
        "              all_count += 1\n",
        "              accuracy1 =  correct_count/all_count\n",
        "          #print(\"Number Of Images Tested =\", all_count)\n",
        "          print(\"\\nModel Accuracy =\", (correct_count/all_count))\n",
        "          accuracy.append(accuracy1)\n",
        "          print(accuracy)\n",
        "\n",
        "\n"
      ],
      "execution_count": 19,
      "outputs": [
        {
          "output_type": "stream",
          "text": [
            "Learning rate : 0.01\n",
            "Epoch 0 - Training loss: 0.11685415122237032\n",
            "\n",
            "Model Accuracy = 0.9647\n",
            "[0.9647]\n",
            "Epoch 1 - Training loss: 0.09337747627065014\n",
            "\n",
            "Model Accuracy = 0.9626\n",
            "[0.9647, 0.9626]\n",
            "Epoch 2 - Training loss: 0.07855238690528014\n",
            "\n",
            "Model Accuracy = 0.9645\n",
            "[0.9647, 0.9626, 0.9645]\n",
            "Epoch 3 - Training loss: 0.06970449904702715\n",
            "\n",
            "Model Accuracy = 0.9716\n",
            "[0.9647, 0.9626, 0.9645, 0.9716]\n",
            "Epoch 4 - Training loss: 0.0595406091384548\n",
            "\n",
            "Model Accuracy = 0.9697\n",
            "[0.9647, 0.9626, 0.9645, 0.9716, 0.9697]\n",
            "Epoch 5 - Training loss: 0.05183810626403856\n",
            "\n",
            "Model Accuracy = 0.9729\n",
            "[0.9647, 0.9626, 0.9645, 0.9716, 0.9697, 0.9729]\n",
            "Epoch 6 - Training loss: 0.047292669818275915\n",
            "\n",
            "Model Accuracy = 0.972\n",
            "[0.9647, 0.9626, 0.9645, 0.9716, 0.9697, 0.9729, 0.972]\n",
            "Epoch 7 - Training loss: 0.04563690603469689\n",
            "\n",
            "Model Accuracy = 0.9728\n",
            "[0.9647, 0.9626, 0.9645, 0.9716, 0.9697, 0.9729, 0.972, 0.9728]\n",
            "Epoch 8 - Training loss: 0.035508368275131284\n",
            "\n",
            "Model Accuracy = 0.9752\n",
            "[0.9647, 0.9626, 0.9645, 0.9716, 0.9697, 0.9729, 0.972, 0.9728, 0.9752]\n",
            "Epoch 9 - Training loss: 0.034393590932246795\n",
            "\n",
            "Model Accuracy = 0.9607\n",
            "[0.9647, 0.9626, 0.9645, 0.9716, 0.9697, 0.9729, 0.972, 0.9728, 0.9752, 0.9607]\n",
            "Learning rate : 0.05\n",
            "Epoch 0 - Training loss: 0.2612153335307131\n",
            "\n",
            "Model Accuracy = 0.9454\n",
            "[0.9454]\n",
            "Epoch 1 - Training loss: 0.185304837363925\n",
            "\n",
            "Model Accuracy = 0.9576\n",
            "[0.9454, 0.9576]\n",
            "Epoch 2 - Training loss: 0.14728874076149864\n",
            "\n",
            "Model Accuracy = 0.9507\n",
            "[0.9454, 0.9576, 0.9507]\n",
            "Epoch 3 - Training loss: 0.1382728808251436\n",
            "\n",
            "Model Accuracy = 0.9613\n",
            "[0.9454, 0.9576, 0.9507, 0.9613]\n",
            "Epoch 4 - Training loss: 0.12390211891890046\n",
            "\n",
            "Model Accuracy = 0.9539\n",
            "[0.9454, 0.9576, 0.9507, 0.9613, 0.9539]\n",
            "Epoch 5 - Training loss: 0.11149485733981596\n",
            "\n",
            "Model Accuracy = 0.9648\n",
            "[0.9454, 0.9576, 0.9507, 0.9613, 0.9539, 0.9648]\n",
            "Epoch 6 - Training loss: 0.10744329491446017\n",
            "\n",
            "Model Accuracy = 0.9658\n",
            "[0.9454, 0.9576, 0.9507, 0.9613, 0.9539, 0.9648, 0.9658]\n",
            "Epoch 7 - Training loss: 0.10381246553280632\n",
            "\n",
            "Model Accuracy = 0.9683\n",
            "[0.9454, 0.9576, 0.9507, 0.9613, 0.9539, 0.9648, 0.9658, 0.9683]\n",
            "Epoch 8 - Training loss: 0.09888391398133706\n",
            "\n",
            "Model Accuracy = 0.9691\n",
            "[0.9454, 0.9576, 0.9507, 0.9613, 0.9539, 0.9648, 0.9658, 0.9683, 0.9691]\n",
            "Epoch 9 - Training loss: 0.0956460306809263\n",
            "\n",
            "Model Accuracy = 0.9676\n",
            "[0.9454, 0.9576, 0.9507, 0.9613, 0.9539, 0.9648, 0.9658, 0.9683, 0.9691, 0.9676]\n",
            "Learning rate : 0.005\n",
            "Epoch 0 - Training loss: 0.037110742328966884\n",
            "\n",
            "Model Accuracy = 0.9786\n",
            "[0.9786]\n",
            "Epoch 1 - Training loss: 0.026266919176453005\n",
            "\n",
            "Model Accuracy = 0.9794\n",
            "[0.9786, 0.9794]\n",
            "Epoch 2 - Training loss: 0.0226373415124608\n",
            "\n",
            "Model Accuracy = 0.9798\n",
            "[0.9786, 0.9794, 0.9798]\n",
            "Epoch 3 - Training loss: 0.02023908546140865\n",
            "\n",
            "Model Accuracy = 0.9802\n",
            "[0.9786, 0.9794, 0.9798, 0.9802]\n",
            "Epoch 4 - Training loss: 0.01832259637538529\n",
            "\n",
            "Model Accuracy = 0.9806\n",
            "[0.9786, 0.9794, 0.9798, 0.9802, 0.9806]\n",
            "Epoch 5 - Training loss: 0.016896806084196893\n",
            "\n",
            "Model Accuracy = 0.9797\n",
            "[0.9786, 0.9794, 0.9798, 0.9802, 0.9806, 0.9797]\n",
            "Epoch 6 - Training loss: 0.015611740737056137\n",
            "\n",
            "Model Accuracy = 0.9795\n",
            "[0.9786, 0.9794, 0.9798, 0.9802, 0.9806, 0.9797, 0.9795]\n",
            "Epoch 7 - Training loss: 0.014741128847130087\n",
            "\n",
            "Model Accuracy = 0.9794\n",
            "[0.9786, 0.9794, 0.9798, 0.9802, 0.9806, 0.9797, 0.9795, 0.9794]\n",
            "Epoch 8 - Training loss: 0.013673063354738477\n",
            "\n",
            "Model Accuracy = 0.98\n",
            "[0.9786, 0.9794, 0.9798, 0.9802, 0.9806, 0.9797, 0.9795, 0.9794, 0.98]\n",
            "Epoch 9 - Training loss: 0.0127371289627127\n",
            "\n",
            "Model Accuracy = 0.9788\n",
            "[0.9786, 0.9794, 0.9798, 0.9802, 0.9806, 0.9797, 0.9795, 0.9794, 0.98, 0.9788]\n",
            "Learning rate : 0.003\n",
            "Epoch 0 - Training loss: 0.01162606172520313\n",
            "\n",
            "Model Accuracy = 0.9796\n",
            "[0.9796]\n",
            "Epoch 1 - Training loss: 0.011090276387790981\n",
            "\n",
            "Model Accuracy = 0.9799\n",
            "[0.9796, 0.9799]\n",
            "Epoch 2 - Training loss: 0.010676999117568135\n",
            "\n",
            "Model Accuracy = 0.9797\n",
            "[0.9796, 0.9799, 0.9797]\n",
            "Epoch 3 - Training loss: 0.010316277357184257\n",
            "\n",
            "Model Accuracy = 0.979\n",
            "[0.9796, 0.9799, 0.9797, 0.979]\n",
            "Epoch 4 - Training loss: 0.009943251124970362\n",
            "\n",
            "Model Accuracy = 0.9795\n",
            "[0.9796, 0.9799, 0.9797, 0.979, 0.9795]\n",
            "Epoch 5 - Training loss: 0.009665873375479254\n",
            "\n",
            "Model Accuracy = 0.98\n",
            "[0.9796, 0.9799, 0.9797, 0.979, 0.9795, 0.98]\n",
            "Epoch 6 - Training loss: 0.009298516623495089\n",
            "\n",
            "Model Accuracy = 0.9791\n",
            "[0.9796, 0.9799, 0.9797, 0.979, 0.9795, 0.98, 0.9791]\n",
            "Epoch 7 - Training loss: 0.009011616588922054\n",
            "\n",
            "Model Accuracy = 0.9799\n",
            "[0.9796, 0.9799, 0.9797, 0.979, 0.9795, 0.98, 0.9791, 0.9799]\n",
            "Epoch 8 - Training loss: 0.008695174600074181\n",
            "\n",
            "Model Accuracy = 0.9789\n",
            "[0.9796, 0.9799, 0.9797, 0.979, 0.9795, 0.98, 0.9791, 0.9799, 0.9789]\n",
            "Epoch 9 - Training loss: 0.008436202173863212\n",
            "\n",
            "Model Accuracy = 0.98\n",
            "[0.9796, 0.9799, 0.9797, 0.979, 0.9795, 0.98, 0.9791, 0.9799, 0.9789, 0.98]\n",
            "Learning rate : 0.001\n",
            "Epoch 0 - Training loss: 0.007816568405564746\n",
            "\n",
            "Model Accuracy = 0.9801\n",
            "[0.9801]\n",
            "Epoch 1 - Training loss: 0.007677786843557223\n",
            "\n",
            "Model Accuracy = 0.9798\n",
            "[0.9801, 0.9798]\n",
            "Epoch 2 - Training loss: 0.007586733149080223\n",
            "\n",
            "Model Accuracy = 0.9796\n",
            "[0.9801, 0.9798, 0.9796]\n",
            "Epoch 3 - Training loss: 0.007506406308237532\n",
            "\n",
            "Model Accuracy = 0.9799\n",
            "[0.9801, 0.9798, 0.9796, 0.9799]\n",
            "Epoch 4 - Training loss: 0.007418883792768723\n",
            "\n",
            "Model Accuracy = 0.9797\n",
            "[0.9801, 0.9798, 0.9796, 0.9799, 0.9797]\n",
            "Epoch 5 - Training loss: 0.007331178699023983\n",
            "\n",
            "Model Accuracy = 0.9799\n",
            "[0.9801, 0.9798, 0.9796, 0.9799, 0.9797, 0.9799]\n",
            "Epoch 6 - Training loss: 0.007245871532502081\n",
            "\n",
            "Model Accuracy = 0.9801\n",
            "[0.9801, 0.9798, 0.9796, 0.9799, 0.9797, 0.9799, 0.9801]\n",
            "Epoch 7 - Training loss: 0.007198802161183131\n",
            "\n",
            "Model Accuracy = 0.9798\n",
            "[0.9801, 0.9798, 0.9796, 0.9799, 0.9797, 0.9799, 0.9801, 0.9798]\n",
            "Epoch 8 - Training loss: 0.007107075437215244\n",
            "\n",
            "Model Accuracy = 0.9797\n",
            "[0.9801, 0.9798, 0.9796, 0.9799, 0.9797, 0.9799, 0.9801, 0.9798, 0.9797]\n",
            "Epoch 9 - Training loss: 0.007034113814204554\n",
            "\n",
            "Model Accuracy = 0.9796\n",
            "[0.9801, 0.9798, 0.9796, 0.9799, 0.9797, 0.9799, 0.9801, 0.9798, 0.9797, 0.9796]\n"
          ],
          "name": "stdout"
        }
      ]
    },
    {
      "cell_type": "code",
      "metadata": {
        "id": "VsoLExR6Xm3x",
        "colab_type": "code",
        "colab": {}
      },
      "source": [
        ""
      ],
      "execution_count": 0,
      "outputs": []
    },
    {
      "cell_type": "code",
      "metadata": {
        "id": "cNOraSYYN2ZH",
        "colab_type": "code",
        "colab": {}
      },
      "source": [
        ""
      ],
      "execution_count": 0,
      "outputs": []
    },
    {
      "cell_type": "code",
      "metadata": {
        "id": "49Gf4qaWN2Wc",
        "colab_type": "code",
        "colab": {}
      },
      "source": [
        ""
      ],
      "execution_count": 0,
      "outputs": []
    },
    {
      "cell_type": "code",
      "metadata": {
        "id": "8sLlPXhZN2T2",
        "colab_type": "code",
        "colab": {}
      },
      "source": [
        ""
      ],
      "execution_count": 0,
      "outputs": []
    },
    {
      "cell_type": "code",
      "metadata": {
        "id": "KEC21sV2N2Rd",
        "colab_type": "code",
        "colab": {}
      },
      "source": [
        ""
      ],
      "execution_count": 0,
      "outputs": []
    },
    {
      "cell_type": "code",
      "metadata": {
        "id": "_GYzEAfHN2O8",
        "colab_type": "code",
        "colab": {}
      },
      "source": [
        ""
      ],
      "execution_count": 0,
      "outputs": []
    }
  ]
}